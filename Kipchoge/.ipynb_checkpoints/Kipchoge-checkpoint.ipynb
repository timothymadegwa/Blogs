{
 "cells": [
  {
   "cell_type": "code",
   "execution_count": null,
   "metadata": {},
   "outputs": [],
   "source": [
    "import pandas as pd\n",
    "import matplotlib.pyplot as plt"
   ]
  },
  {
   "cell_type": "code",
   "execution_count": null,
   "metadata": {},
   "outputs": [],
   "source": [
    "#for styling the graphs\n",
    "plt.style.use('ggplot')"
   ]
  },
  {
   "cell_type": "code",
   "execution_count": null,
   "metadata": {},
   "outputs": [],
   "source": [
    "#reading in the first sheet\n",
    "wr_kip = pd.read_excel('timesplits.xlsx', sheet_name=0)"
   ]
  },
  {
   "cell_type": "code",
   "execution_count": null,
   "metadata": {},
   "outputs": [],
   "source": [
    "bekele = pd.read_excel('timesplits.xlsx', sheet_name=1)"
   ]
  },
  {
   "cell_type": "code",
   "execution_count": null,
   "metadata": {},
   "outputs": [],
   "source": [
    "ineos_kip = pd.read_excel('timesplits.xlsx', sheet_name=2)"
   ]
  },
  {
   "cell_type": "code",
   "execution_count": null,
   "metadata": {},
   "outputs": [],
   "source": [
    "br_2 = pd.read_excel('timesplits.xlsx', sheet_name=3)"
   ]
  },
  {
   "cell_type": "code",
   "execution_count": null,
   "metadata": {
    "scrolled": true
   },
   "outputs": [],
   "source": [
    "wr_kip.dtypes"
   ]
  },
  {
   "cell_type": "code",
   "execution_count": null,
   "metadata": {},
   "outputs": [],
   "source": [
    "wr_kip"
   ]
  },
  {
   "cell_type": "code",
   "execution_count": null,
   "metadata": {},
   "outputs": [],
   "source": [
    "bekele"
   ]
  },
  {
   "cell_type": "code",
   "execution_count": null,
   "metadata": {
    "scrolled": true
   },
   "outputs": [],
   "source": [
    "ineos_kip"
   ]
  },
  {
   "cell_type": "code",
   "execution_count": null,
   "metadata": {},
   "outputs": [],
   "source": [
    "br_2"
   ]
  },
  {
   "cell_type": "code",
   "execution_count": null,
   "metadata": {},
   "outputs": [],
   "source": [
    "wr_kip['split'] = wr_kip['split'].str.slice(0,-2)\n",
    "wr_kip.iloc[9,0] = wr_kip.iloc[9,0].replace('Fini', '42.2')\n",
    "wr_kip['split'] = wr_kip['split'].astype(float)"
   ]
  },
  {
   "cell_type": "code",
   "execution_count": null,
   "metadata": {},
   "outputs": [],
   "source": [
    "bekele['split'] = bekele['split'].str.slice(0,-2)\n",
    "bekele.iloc[9,0] = bekele.iloc[9,0].replace('Fini', '42.2')\n",
    "bekele['split'] = bekele['split'].astype(float)"
   ]
  },
  {
   "cell_type": "code",
   "execution_count": null,
   "metadata": {},
   "outputs": [],
   "source": [
    "ineos_kip['split'] = ineos_kip['split'].str.slice(0,-2)\n",
    "ineos_kip.iloc[9,0] = ineos_kip.iloc[9,0].replace('Fini', '42.2')\n",
    "ineos_kip['split'] = ineos_kip['split'].astype(float)"
   ]
  },
  {
   "cell_type": "code",
   "execution_count": null,
   "metadata": {},
   "outputs": [],
   "source": [
    "wr_kip['time'] = pd.to_datetime(wr_kip['time'], format='%H:%M:%S').dt.time\n",
    "bekele['time'] = pd.to_datetime(bekele['time'], format='%H:%M:%S').dt.time\n",
    "ineos_kip['time'] = pd.to_datetime(ineos_kip['time'], format='%H:%M:%S').dt.time\n",
    "br_2['time'] = pd.to_datetime(br_2['time'], format='%H:%M:%S').dt.time"
   ]
  },
  {
   "cell_type": "code",
   "execution_count": null,
   "metadata": {
    "scrolled": true
   },
   "outputs": [],
   "source": [
    "ineos_kip.drop(4, axis=0, inplace = True)\n",
    "br_2.drop(4, axis=0, inplace = True)"
   ]
  },
  {
   "cell_type": "code",
   "execution_count": null,
   "metadata": {},
   "outputs": [],
   "source": [
    "#a function that calculates the average speed in a marathon(km/h)\n",
    "def avg_speed(hours, mins, sec):\n",
    "    return (42195/((hours*3600)+(mins*60)+(sec)))*(18/5)"
   ]
  },
  {
   "cell_type": "code",
   "execution_count": null,
   "metadata": {
    "scrolled": true
   },
   "outputs": [],
   "source": [
    "avg_ineos = avg_speed(1,59,40)\n",
    "avg_br2 = avg_speed(2,0,25)\n",
    "avg_wr_kip = avg_speed(2,1,39)\n",
    "avg_bekele = avg_speed(2,1,41)\n",
    "print('the average speed for ineos was',avg_ineos)\n",
    "print('the average speed for breaking 2 was',avg_br2)\n",
    "print('the average speed for the world record was',avg_wr_kip)\n",
    "print('the average speed for 2nd fastest official time was',avg_bekele)"
   ]
  },
  {
   "cell_type": "code",
   "execution_count": null,
   "metadata": {
    "scrolled": true
   },
   "outputs": [],
   "source": [
    "#getting the speeds in m/s\n",
    "print(avg_ineos*(5/18))\n",
    "print(avg_br2*(5/18))\n",
    "print(avg_wr_kip*(5/18))\n",
    "print(avg_bekele*(5/18))"
   ]
  },
  {
   "cell_type": "code",
   "execution_count": null,
   "metadata": {
    "scrolled": false
   },
   "outputs": [],
   "source": [
    "#plotting all the races\n",
    "plt.plot(wr_kip.time, wr_kip.split, label='Kipchoge',marker='*', alpha=0.6)\n",
    "plt.plot(bekele.time, bekele.split, label='Bekele', marker='*',alpha=0.6)\n",
    "plt.plot(ineos_kip.time, ineos_kip.split, label='ineos', marker='*', alpha=0.6)\n",
    "plt.plot(br_2.time, br_2.split, label='breaking2', marker='*', alpha=0.6)\n",
    "plt.title('A GRAPH OF TIME VS DISTANCE')\n",
    "plt.xlabel('Time')\n",
    "plt.ylabel('Distance (km)')\n",
    "plt.xticks(rotation=90)\n",
    "plt.legend()\n",
    "plt.savefig('plot')"
   ]
  },
  {
   "cell_type": "code",
   "execution_count": null,
   "metadata": {},
   "outputs": [],
   "source": [
    "plt.plot(wr_kip.time, wr_kip.split, label='Kipchoge',marker='.', alpha=0.6)\n",
    "plt.plot(bekele.time, bekele.split, label='Bekele', marker='.',alpha=0.6)\n",
    "plt.plot(ineos_kip.time, ineos_kip.split, label='ineos', marker='.', alpha=0.6)\n",
    "plt.plot(br_2.time, br_2.split, label='breaking2', marker='.', alpha=0.6)\n",
    "plt.ylim(30,42.5)\n",
    "plt.xlim('01:10:00','02:02:00')\n",
    "plt.title('A GRAPH OF TIME VS DISTANCE')\n",
    "plt.xlabel('Time')\n",
    "plt.ylabel('Distance (km)')\n",
    "plt.xticks(rotation=90)\n",
    "plt.legend()\n",
    "plt.savefig('plot2')"
   ]
  },
  {
   "cell_type": "code",
   "execution_count": null,
   "metadata": {},
   "outputs": [],
   "source": [
    "_2hr_pace=avg_speed(2,0,0)\n",
    "_2hr_pace*(5/18)"
   ]
  },
  {
   "cell_type": "code",
   "execution_count": null,
   "metadata": {
    "scrolled": false
   },
   "outputs": [],
   "source": [
    "plt.plot(ineos_kip.split, ineos_kip['km/h'], label='Ineos', marker='.', color='k')\n",
    "plt.plot(br_2.split, br_2['km/h'], label='Breaking2', marker='.', color='b')\n",
    "plt.hlines(_2hr_pace, 5,43, color='g',label='2 hour pace')\n",
    "plt.title('BREAKING 2 VS INEOS(DISTANCE AGAINST SPEED/KM)')\n",
    "plt.xlabel('Distance (km)')\n",
    "plt.ylabel('Speed per km')\n",
    "plt.legend()\n",
    "plt.savefig('plot1')"
   ]
  },
  {
   "cell_type": "code",
   "execution_count": null,
   "metadata": {
    "scrolled": false
   },
   "outputs": [],
   "source": [
    "plt.plot(ineos_kip.split, ineos_kip.sub_2hr, marker='.', label='Ineos')\n",
    "plt.plot(br_2.split, br_2.sub_2hr, marker='.', label='Breaking2')\n",
    "plt.title('TIME TO SPARE FOR A SUB 2 HOUR MARATHON')\n",
    "plt.ylabel('Time (sec)')\n",
    "plt.xlabel('Distance (km)')\n",
    "plt.hlines(0, 5, 43, color='g', label='2 hour pace')\n",
    "plt.legend()\n",
    "plt.savefig('plot2')"
   ]
  },
  {
   "cell_type": "code",
   "execution_count": null,
   "metadata": {
    "scrolled": true
   },
   "outputs": [],
   "source": [
    "plt.plot(wr_kip.split, wr_kip['km/h'], label='Kipchoge',marker='.',color='r')\n",
    "plt.plot(bekele.split, bekele['km/h'], label='Bekele', marker='.', color='b')\n",
    "plt.hlines(_2hr_pace, 5,42, color='g',label='average')\n",
    "plt.title('FASTEST OFFICIAL MARATHONS (DISTANCE VS SPEED/KM)')\n",
    "plt.xlabel('Distance (km)')\n",
    "plt.ylabel('Speed per km')\n",
    "plt.legend()\n",
    "plt.savefig('plot3')"
   ]
  },
  {
   "cell_type": "code",
   "execution_count": null,
   "metadata": {},
   "outputs": [],
   "source": [
    "plt.plot(wr_kip.split, wr_kip.vs_bekele, marker='.', color='b', label='Kipchoge')\n",
    "plt.hlines(0,5,43, color='r', label=\"Bekele's pace\")\n",
    "plt.title('TIME COMPARISON (KIPCHOGE)')\n",
    "plt.ylabel('Time (sec)')\n",
    "plt.xlabel('Distance (km)')\n",
    "plt.legend()\n",
    "plt.savefig('plot4')"
   ]
  },
  {
   "cell_type": "code",
   "execution_count": null,
   "metadata": {
    "scrolled": false
   },
   "outputs": [],
   "source": [
    "plt.plot(wr_kip.split, wr_kip['km/h'], label='Kipchoge',marker='.',color='r')\n",
    "plt.plot(bekele.split, bekele['km/h'], label='Bekele', marker='.', color='g')\n",
    "plt.plot(ineos_kip.split, ineos_kip['km/h'], label='Ineos', marker='.', color='k')\n",
    "plt.plot(br_2.split, br_2['km/h'], label='Breaking2', marker='.', color='b')\n",
    "plt.hlines(avg_ineos, 5,42, color='y',label='average')\n",
    "plt.title('DISTANCE VS SPEED/KM')\n",
    "plt.xlabel('Distance (km)')\n",
    "plt.ylabel('Speed per km')\n",
    "plt.legend()"
   ]
  },
  {
   "cell_type": "code",
   "execution_count": null,
   "metadata": {
    "scrolled": true
   },
   "outputs": [],
   "source": [
    "plt.plot(wr_kip.split, wr_kip['min/km'])"
   ]
  },
  {
   "cell_type": "code",
   "execution_count": null,
   "metadata": {},
   "outputs": [],
   "source": []
  }
 ],
 "metadata": {
  "kernelspec": {
   "display_name": "Python 3",
   "language": "python",
   "name": "python3"
  },
  "language_info": {
   "codemirror_mode": {
    "name": "ipython",
    "version": 3
   },
   "file_extension": ".py",
   "mimetype": "text/x-python",
   "name": "python",
   "nbconvert_exporter": "python",
   "pygments_lexer": "ipython3",
   "version": "3.6.9"
  }
 },
 "nbformat": 4,
 "nbformat_minor": 2
}
