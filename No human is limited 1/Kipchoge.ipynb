{
 "cells": [
  {
   "cell_type": "markdown",
   "metadata": {},
   "source": [
    "# NO HUMAN IS LIMITED"
   ]
  },
  {
   "cell_type": "markdown",
   "metadata": {},
   "source": [
    "### 1.0 DESCRIPTION \n",
    "\n",
    "The goal of this project is to analyse Eliud Kipchoge's marathon runs in the ineos 159 challenge and the Breaking 2. I will also be compairing the fastes 2 official marathon thime run by Eliud Kipchoge and Kenanisa Bekele"
   ]
  },
  {
   "cell_type": "code",
   "execution_count": 1,
   "metadata": {},
   "outputs": [],
   "source": [
    "import pandas as pd\n",
    "import matplotlib.pyplot as plt"
   ]
  },
  {
   "cell_type": "code",
   "execution_count": 2,
   "metadata": {},
   "outputs": [],
   "source": [
    "#for styling the graphs\n",
    "plt.style.use('ggplot')"
   ]
  },
  {
   "cell_type": "code",
   "execution_count": 3,
   "metadata": {},
   "outputs": [],
   "source": [
    "#reading in the first sheet\n",
    "wr_kip = pd.read_excel('timesplits.xlsx', sheet_name=0)"
   ]
  },
  {
   "cell_type": "code",
   "execution_count": 4,
   "metadata": {},
   "outputs": [],
   "source": [
    "bekele = pd.read_excel('timesplits.xlsx', sheet_name=1)"
   ]
  },
  {
   "cell_type": "code",
   "execution_count": 5,
   "metadata": {},
   "outputs": [],
   "source": [
    "ineos_kip = pd.read_excel('timesplits.xlsx', sheet_name=2)"
   ]
  },
  {
   "cell_type": "code",
   "execution_count": 6,
   "metadata": {},
   "outputs": [],
   "source": [
    "br_2 = pd.read_excel('timesplits.xlsx', sheet_name=3)"
   ]
  },
  {
   "cell_type": "code",
   "execution_count": 7,
   "metadata": {
    "scrolled": true
   },
   "outputs": [
    {
     "data": {
      "text/plain": [
       "split           object\n",
       "time of day     object\n",
       "time            object\n",
       "diff            object\n",
       "min/km          object\n",
       "km/h           float64\n",
       "time.1          object\n",
       "vs_bekele        int64\n",
       "dtype: object"
      ]
     },
     "execution_count": 7,
     "metadata": {},
     "output_type": "execute_result"
    }
   ],
   "source": [
    "wr_kip.dtypes"
   ]
  },
  {
   "cell_type": "code",
   "execution_count": 8,
   "metadata": {},
   "outputs": [
    {
     "data": {
      "text/html": [
       "<div>\n",
       "<style scoped>\n",
       "    .dataframe tbody tr th:only-of-type {\n",
       "        vertical-align: middle;\n",
       "    }\n",
       "\n",
       "    .dataframe tbody tr th {\n",
       "        vertical-align: top;\n",
       "    }\n",
       "\n",
       "    .dataframe thead th {\n",
       "        text-align: right;\n",
       "    }\n",
       "</style>\n",
       "<table border=\"1\" class=\"dataframe\">\n",
       "  <thead>\n",
       "    <tr style=\"text-align: right;\">\n",
       "      <th></th>\n",
       "      <th>split</th>\n",
       "      <th>time of day</th>\n",
       "      <th>time</th>\n",
       "      <th>diff</th>\n",
       "      <th>min/km</th>\n",
       "      <th>km/h</th>\n",
       "      <th>time.1</th>\n",
       "      <th>vs_bekele</th>\n",
       "    </tr>\n",
       "  </thead>\n",
       "  <tbody>\n",
       "    <tr>\n",
       "      <td>0</td>\n",
       "      <td>5 km</td>\n",
       "      <td>09:29:25</td>\n",
       "      <td>00:14:24</td>\n",
       "      <td>14:24:00</td>\n",
       "      <td>02:53:00</td>\n",
       "      <td>20.84</td>\n",
       "      <td>00:14:24</td>\n",
       "      <td>0</td>\n",
       "    </tr>\n",
       "    <tr>\n",
       "      <td>1</td>\n",
       "      <td>10 km</td>\n",
       "      <td>09:44:01</td>\n",
       "      <td>00:29:01</td>\n",
       "      <td>14:37:00</td>\n",
       "      <td>02:56:00</td>\n",
       "      <td>20.54</td>\n",
       "      <td>00:28:53</td>\n",
       "      <td>-8</td>\n",
       "    </tr>\n",
       "    <tr>\n",
       "      <td>2</td>\n",
       "      <td>15 km</td>\n",
       "      <td>09:58:38</td>\n",
       "      <td>00:43:38</td>\n",
       "      <td>14:37:00</td>\n",
       "      <td>02:56:00</td>\n",
       "      <td>20.53</td>\n",
       "      <td>00:43:29</td>\n",
       "      <td>-9</td>\n",
       "    </tr>\n",
       "    <tr>\n",
       "      <td>3</td>\n",
       "      <td>20 km</td>\n",
       "      <td>10:12:56</td>\n",
       "      <td>00:57:56</td>\n",
       "      <td>14:18:00</td>\n",
       "      <td>02:52:00</td>\n",
       "      <td>20.98</td>\n",
       "      <td>00:57:58</td>\n",
       "      <td>2</td>\n",
       "    </tr>\n",
       "    <tr>\n",
       "      <td>4</td>\n",
       "      <td>21 km</td>\n",
       "      <td>10:16:06</td>\n",
       "      <td>01:01:06</td>\n",
       "      <td>03:10:00</td>\n",
       "      <td>02:53:00</td>\n",
       "      <td>20.82</td>\n",
       "      <td>01:01:05</td>\n",
       "      <td>-1</td>\n",
       "    </tr>\n",
       "    <tr>\n",
       "      <td>5</td>\n",
       "      <td>25 km</td>\n",
       "      <td>10:27:25</td>\n",
       "      <td>01:12:24</td>\n",
       "      <td>11:19:00</td>\n",
       "      <td>02:54:00</td>\n",
       "      <td>20.70</td>\n",
       "      <td>01:12:30</td>\n",
       "      <td>6</td>\n",
       "    </tr>\n",
       "    <tr>\n",
       "      <td>6</td>\n",
       "      <td>30 km</td>\n",
       "      <td>10:41:45</td>\n",
       "      <td>01:26:45</td>\n",
       "      <td>14:21:00</td>\n",
       "      <td>02:53:00</td>\n",
       "      <td>20.92</td>\n",
       "      <td>01:26:55</td>\n",
       "      <td>10</td>\n",
       "    </tr>\n",
       "    <tr>\n",
       "      <td>7</td>\n",
       "      <td>35 km</td>\n",
       "      <td>10:56:12</td>\n",
       "      <td>01:41:12</td>\n",
       "      <td>14:28:00</td>\n",
       "      <td>02:54:00</td>\n",
       "      <td>20.75</td>\n",
       "      <td>01:41:15</td>\n",
       "      <td>3</td>\n",
       "    </tr>\n",
       "    <tr>\n",
       "      <td>8</td>\n",
       "      <td>40 km</td>\n",
       "      <td>11:10:33</td>\n",
       "      <td>01:55:32</td>\n",
       "      <td>14:21:00</td>\n",
       "      <td>02:53:00</td>\n",
       "      <td>20.92</td>\n",
       "      <td>01:55:30</td>\n",
       "      <td>2</td>\n",
       "    </tr>\n",
       "    <tr>\n",
       "      <td>9</td>\n",
       "      <td>Finish</td>\n",
       "      <td>11:16:40</td>\n",
       "      <td>02:01:39</td>\n",
       "      <td>06:07:00</td>\n",
       "      <td>02:48:00</td>\n",
       "      <td>21.53</td>\n",
       "      <td>02:01:41</td>\n",
       "      <td>2</td>\n",
       "    </tr>\n",
       "  </tbody>\n",
       "</table>\n",
       "</div>"
      ],
      "text/plain": [
       "    split time of day      time      diff    min/km   km/h    time.1  \\\n",
       "0    5 km    09:29:25  00:14:24  14:24:00  02:53:00  20.84  00:14:24   \n",
       "1   10 km    09:44:01  00:29:01  14:37:00  02:56:00  20.54  00:28:53   \n",
       "2   15 km    09:58:38  00:43:38  14:37:00  02:56:00  20.53  00:43:29   \n",
       "3   20 km    10:12:56  00:57:56  14:18:00  02:52:00  20.98  00:57:58   \n",
       "4   21 km    10:16:06  01:01:06  03:10:00  02:53:00  20.82  01:01:05   \n",
       "5   25 km    10:27:25  01:12:24  11:19:00  02:54:00  20.70  01:12:30   \n",
       "6   30 km    10:41:45  01:26:45  14:21:00  02:53:00  20.92  01:26:55   \n",
       "7   35 km    10:56:12  01:41:12  14:28:00  02:54:00  20.75  01:41:15   \n",
       "8   40 km    11:10:33  01:55:32  14:21:00  02:53:00  20.92  01:55:30   \n",
       "9  Finish    11:16:40  02:01:39  06:07:00  02:48:00  21.53  02:01:41   \n",
       "\n",
       "   vs_bekele  \n",
       "0          0  \n",
       "1         -8  \n",
       "2         -9  \n",
       "3          2  \n",
       "4         -1  \n",
       "5          6  \n",
       "6         10  \n",
       "7          3  \n",
       "8          2  \n",
       "9          2  "
      ]
     },
     "execution_count": 8,
     "metadata": {},
     "output_type": "execute_result"
    }
   ],
   "source": [
    "wr_kip"
   ]
  },
  {
   "cell_type": "code",
   "execution_count": 9,
   "metadata": {},
   "outputs": [
    {
     "data": {
      "text/html": [
       "<div>\n",
       "<style scoped>\n",
       "    .dataframe tbody tr th:only-of-type {\n",
       "        vertical-align: middle;\n",
       "    }\n",
       "\n",
       "    .dataframe tbody tr th {\n",
       "        vertical-align: top;\n",
       "    }\n",
       "\n",
       "    .dataframe thead th {\n",
       "        text-align: right;\n",
       "    }\n",
       "</style>\n",
       "<table border=\"1\" class=\"dataframe\">\n",
       "  <thead>\n",
       "    <tr style=\"text-align: right;\">\n",
       "      <th></th>\n",
       "      <th>split</th>\n",
       "      <th>time of day</th>\n",
       "      <th>time</th>\n",
       "      <th>diff</th>\n",
       "      <th>min/km</th>\n",
       "      <th>km/h</th>\n",
       "    </tr>\n",
       "  </thead>\n",
       "  <tbody>\n",
       "    <tr>\n",
       "      <td>0</td>\n",
       "      <td>5 km</td>\n",
       "      <td>09:29:24</td>\n",
       "      <td>00:14:24</td>\n",
       "      <td>14:24:00</td>\n",
       "      <td>02:53:00</td>\n",
       "      <td>20.84</td>\n",
       "    </tr>\n",
       "    <tr>\n",
       "      <td>1</td>\n",
       "      <td>10 km</td>\n",
       "      <td>09:43:53</td>\n",
       "      <td>00:28:53</td>\n",
       "      <td>14:29:00</td>\n",
       "      <td>02:54:00</td>\n",
       "      <td>20.71</td>\n",
       "    </tr>\n",
       "    <tr>\n",
       "      <td>2</td>\n",
       "      <td>15 km</td>\n",
       "      <td>09:58:29</td>\n",
       "      <td>00:43:29</td>\n",
       "      <td>14:37:00</td>\n",
       "      <td>02:56:00</td>\n",
       "      <td>20.55</td>\n",
       "    </tr>\n",
       "    <tr>\n",
       "      <td>3</td>\n",
       "      <td>20 km</td>\n",
       "      <td>10:12:58</td>\n",
       "      <td>00:57:58</td>\n",
       "      <td>14:29:00</td>\n",
       "      <td>02:54:00</td>\n",
       "      <td>20.73</td>\n",
       "    </tr>\n",
       "    <tr>\n",
       "      <td>4</td>\n",
       "      <td>21 km</td>\n",
       "      <td>10:16:06</td>\n",
       "      <td>01:01:05</td>\n",
       "      <td>03:08:00</td>\n",
       "      <td>02:52:00</td>\n",
       "      <td>21.03</td>\n",
       "    </tr>\n",
       "    <tr>\n",
       "      <td>5</td>\n",
       "      <td>25 km</td>\n",
       "      <td>10:27:30</td>\n",
       "      <td>01:12:30</td>\n",
       "      <td>11:25:00</td>\n",
       "      <td>02:56:00</td>\n",
       "      <td>20.52</td>\n",
       "    </tr>\n",
       "    <tr>\n",
       "      <td>6</td>\n",
       "      <td>30 km</td>\n",
       "      <td>10:41:55</td>\n",
       "      <td>01:26:55</td>\n",
       "      <td>14:26:00</td>\n",
       "      <td>02:54:00</td>\n",
       "      <td>20.81</td>\n",
       "    </tr>\n",
       "    <tr>\n",
       "      <td>7</td>\n",
       "      <td>35 km</td>\n",
       "      <td>10:56:15</td>\n",
       "      <td>01:41:15</td>\n",
       "      <td>14:20:00</td>\n",
       "      <td>02:52:00</td>\n",
       "      <td>20.94</td>\n",
       "    </tr>\n",
       "    <tr>\n",
       "      <td>8</td>\n",
       "      <td>40 km</td>\n",
       "      <td>11:10:30</td>\n",
       "      <td>01:55:30</td>\n",
       "      <td>14:16:00</td>\n",
       "      <td>02:52:00</td>\n",
       "      <td>21.04</td>\n",
       "    </tr>\n",
       "    <tr>\n",
       "      <td>9</td>\n",
       "      <td>Finish</td>\n",
       "      <td>11:16:41</td>\n",
       "      <td>02:01:41</td>\n",
       "      <td>06:11:00</td>\n",
       "      <td>02:49:00</td>\n",
       "      <td>21.35</td>\n",
       "    </tr>\n",
       "  </tbody>\n",
       "</table>\n",
       "</div>"
      ],
      "text/plain": [
       "    split time of day      time      diff    min/km   km/h\n",
       "0    5 km    09:29:24  00:14:24  14:24:00  02:53:00  20.84\n",
       "1   10 km    09:43:53  00:28:53  14:29:00  02:54:00  20.71\n",
       "2   15 km    09:58:29  00:43:29  14:37:00  02:56:00  20.55\n",
       "3   20 km    10:12:58  00:57:58  14:29:00  02:54:00  20.73\n",
       "4   21 km    10:16:06  01:01:05  03:08:00  02:52:00  21.03\n",
       "5   25 km    10:27:30  01:12:30  11:25:00  02:56:00  20.52\n",
       "6   30 km    10:41:55  01:26:55  14:26:00  02:54:00  20.81\n",
       "7   35 km    10:56:15  01:41:15  14:20:00  02:52:00  20.94\n",
       "8   40 km    11:10:30  01:55:30  14:16:00  02:52:00  21.04\n",
       "9  Finish    11:16:41  02:01:41  06:11:00  02:49:00  21.35"
      ]
     },
     "execution_count": 9,
     "metadata": {},
     "output_type": "execute_result"
    }
   ],
   "source": [
    "bekele"
   ]
  },
  {
   "cell_type": "code",
   "execution_count": 10,
   "metadata": {
    "scrolled": true
   },
   "outputs": [
    {
     "data": {
      "text/html": [
       "<div>\n",
       "<style scoped>\n",
       "    .dataframe tbody tr th:only-of-type {\n",
       "        vertical-align: middle;\n",
       "    }\n",
       "\n",
       "    .dataframe tbody tr th {\n",
       "        vertical-align: top;\n",
       "    }\n",
       "\n",
       "    .dataframe thead th {\n",
       "        text-align: right;\n",
       "    }\n",
       "</style>\n",
       "<table border=\"1\" class=\"dataframe\">\n",
       "  <thead>\n",
       "    <tr style=\"text-align: right;\">\n",
       "      <th></th>\n",
       "      <th>split</th>\n",
       "      <th>diff</th>\n",
       "      <th>time</th>\n",
       "      <th>min/km</th>\n",
       "      <th>km/h</th>\n",
       "      <th>2-hr Pace</th>\n",
       "      <th>sub_2hr</th>\n",
       "    </tr>\n",
       "  </thead>\n",
       "  <tbody>\n",
       "    <tr>\n",
       "      <td>0</td>\n",
       "      <td>5 km</td>\n",
       "      <td>14:10:00</td>\n",
       "      <td>00:14:10</td>\n",
       "      <td>02:50:00</td>\n",
       "      <td>21.17</td>\n",
       "      <td>00:14:13</td>\n",
       "      <td>-3.0</td>\n",
       "    </tr>\n",
       "    <tr>\n",
       "      <td>1</td>\n",
       "      <td>10 km</td>\n",
       "      <td>14:10:00</td>\n",
       "      <td>00:28:20</td>\n",
       "      <td>02:50:00</td>\n",
       "      <td>21.17</td>\n",
       "      <td>00:28:26</td>\n",
       "      <td>-6.0</td>\n",
       "    </tr>\n",
       "    <tr>\n",
       "      <td>2</td>\n",
       "      <td>15 km</td>\n",
       "      <td>14:14:00</td>\n",
       "      <td>00:42:34</td>\n",
       "      <td>02:51:00</td>\n",
       "      <td>21.07</td>\n",
       "      <td>00:42:39</td>\n",
       "      <td>-5.0</td>\n",
       "    </tr>\n",
       "    <tr>\n",
       "      <td>3</td>\n",
       "      <td>20 km</td>\n",
       "      <td>14:13:00</td>\n",
       "      <td>00:56:47</td>\n",
       "      <td>02:51:00</td>\n",
       "      <td>21.10</td>\n",
       "      <td>00:56:52</td>\n",
       "      <td>-5.0</td>\n",
       "    </tr>\n",
       "    <tr>\n",
       "      <td>4</td>\n",
       "      <td>21 km</td>\n",
       "      <td>NaN</td>\n",
       "      <td>00:59:35</td>\n",
       "      <td>NaN</td>\n",
       "      <td>NaN</td>\n",
       "      <td>01:00:00</td>\n",
       "      <td>NaN</td>\n",
       "    </tr>\n",
       "    <tr>\n",
       "      <td>5</td>\n",
       "      <td>25 km</td>\n",
       "      <td>14:12:00</td>\n",
       "      <td>01:10:59</td>\n",
       "      <td>02:50:00</td>\n",
       "      <td>21.12</td>\n",
       "      <td>01:11:05</td>\n",
       "      <td>-6.0</td>\n",
       "    </tr>\n",
       "    <tr>\n",
       "      <td>6</td>\n",
       "      <td>30 km</td>\n",
       "      <td>14:12:00</td>\n",
       "      <td>01:25:11</td>\n",
       "      <td>02:50:00</td>\n",
       "      <td>21.12</td>\n",
       "      <td>01:25:18</td>\n",
       "      <td>-7.0</td>\n",
       "    </tr>\n",
       "    <tr>\n",
       "      <td>7</td>\n",
       "      <td>35 km</td>\n",
       "      <td>14:12:00</td>\n",
       "      <td>01:39:23</td>\n",
       "      <td>02:50:00</td>\n",
       "      <td>21.12</td>\n",
       "      <td>01:39:31</td>\n",
       "      <td>-8.0</td>\n",
       "    </tr>\n",
       "    <tr>\n",
       "      <td>8</td>\n",
       "      <td>40 km</td>\n",
       "      <td>14:12:00</td>\n",
       "      <td>01:53:35</td>\n",
       "      <td>02:50:00</td>\n",
       "      <td>21.12</td>\n",
       "      <td>01:53:44</td>\n",
       "      <td>-9.0</td>\n",
       "    </tr>\n",
       "    <tr>\n",
       "      <td>9</td>\n",
       "      <td>Finish</td>\n",
       "      <td>06:05:00</td>\n",
       "      <td>01:59:40</td>\n",
       "      <td>02:46:00</td>\n",
       "      <td>21.65</td>\n",
       "      <td>02:00:00</td>\n",
       "      <td>-20.0</td>\n",
       "    </tr>\n",
       "    <tr>\n",
       "      <td>10</td>\n",
       "      <td>NaN</td>\n",
       "      <td>NaN</td>\n",
       "      <td>NaN</td>\n",
       "      <td>NaN</td>\n",
       "      <td>NaN</td>\n",
       "      <td>NaN</td>\n",
       "      <td>NaN</td>\n",
       "    </tr>\n",
       "    <tr>\n",
       "      <td>11</td>\n",
       "      <td>NaN</td>\n",
       "      <td>NaN</td>\n",
       "      <td>NaN</td>\n",
       "      <td>NaN</td>\n",
       "      <td>NaN</td>\n",
       "      <td>NaN</td>\n",
       "      <td>NaN</td>\n",
       "    </tr>\n",
       "    <tr>\n",
       "      <td>12</td>\n",
       "      <td>NaN</td>\n",
       "      <td>NaN</td>\n",
       "      <td>NaN</td>\n",
       "      <td>NaN</td>\n",
       "      <td>NaN</td>\n",
       "      <td>NaN</td>\n",
       "      <td>NaN</td>\n",
       "    </tr>\n",
       "    <tr>\n",
       "      <td>13</td>\n",
       "      <td>NaN</td>\n",
       "      <td>NaN</td>\n",
       "      <td>NaN</td>\n",
       "      <td>NaN</td>\n",
       "      <td>NaN</td>\n",
       "      <td>NaN</td>\n",
       "      <td>NaN</td>\n",
       "    </tr>\n",
       "    <tr>\n",
       "      <td>14</td>\n",
       "      <td>NaN</td>\n",
       "      <td>NaN</td>\n",
       "      <td>NaN</td>\n",
       "      <td>NaN</td>\n",
       "      <td>NaN</td>\n",
       "      <td>NaN</td>\n",
       "      <td>840.0</td>\n",
       "    </tr>\n",
       "  </tbody>\n",
       "</table>\n",
       "</div>"
      ],
      "text/plain": [
       "     split      diff      time    min/km   km/h 2-hr Pace  sub_2hr\n",
       "0     5 km  14:10:00  00:14:10  02:50:00  21.17  00:14:13     -3.0\n",
       "1    10 km  14:10:00  00:28:20  02:50:00  21.17  00:28:26     -6.0\n",
       "2    15 km  14:14:00  00:42:34  02:51:00  21.07  00:42:39     -5.0\n",
       "3    20 km  14:13:00  00:56:47  02:51:00  21.10  00:56:52     -5.0\n",
       "4    21 km       NaN  00:59:35       NaN    NaN  01:00:00      NaN\n",
       "5    25 km  14:12:00  01:10:59  02:50:00  21.12  01:11:05     -6.0\n",
       "6    30 km  14:12:00  01:25:11  02:50:00  21.12  01:25:18     -7.0\n",
       "7    35 km  14:12:00  01:39:23  02:50:00  21.12  01:39:31     -8.0\n",
       "8    40 km  14:12:00  01:53:35  02:50:00  21.12  01:53:44     -9.0\n",
       "9   Finish  06:05:00  01:59:40  02:46:00  21.65  02:00:00    -20.0\n",
       "10     NaN       NaN       NaN       NaN    NaN       NaN      NaN\n",
       "11     NaN       NaN       NaN       NaN    NaN       NaN      NaN\n",
       "12     NaN       NaN       NaN       NaN    NaN       NaN      NaN\n",
       "13     NaN       NaN       NaN       NaN    NaN       NaN      NaN\n",
       "14     NaN       NaN       NaN       NaN    NaN       NaN    840.0"
      ]
     },
     "execution_count": 10,
     "metadata": {},
     "output_type": "execute_result"
    }
   ],
   "source": [
    "ineos_kip"
   ]
  },
  {
   "cell_type": "code",
   "execution_count": 11,
   "metadata": {},
   "outputs": [
    {
     "data": {
      "text/html": [
       "<div>\n",
       "<style scoped>\n",
       "    .dataframe tbody tr th:only-of-type {\n",
       "        vertical-align: middle;\n",
       "    }\n",
       "\n",
       "    .dataframe tbody tr th {\n",
       "        vertical-align: top;\n",
       "    }\n",
       "\n",
       "    .dataframe thead th {\n",
       "        text-align: right;\n",
       "    }\n",
       "</style>\n",
       "<table border=\"1\" class=\"dataframe\">\n",
       "  <thead>\n",
       "    <tr style=\"text-align: right;\">\n",
       "      <th></th>\n",
       "      <th>split</th>\n",
       "      <th>time</th>\n",
       "      <th>diff</th>\n",
       "      <th>min/km</th>\n",
       "      <th>km/h</th>\n",
       "      <th>2-hr Pace</th>\n",
       "      <th>sub_2hr</th>\n",
       "    </tr>\n",
       "  </thead>\n",
       "  <tbody>\n",
       "    <tr>\n",
       "      <td>0</td>\n",
       "      <td>5.0</td>\n",
       "      <td>00:14:14</td>\n",
       "      <td>14:14:00</td>\n",
       "      <td>02:52:00</td>\n",
       "      <td>21.077283</td>\n",
       "      <td>00:14:13</td>\n",
       "      <td>1</td>\n",
       "    </tr>\n",
       "    <tr>\n",
       "      <td>1</td>\n",
       "      <td>10.0</td>\n",
       "      <td>00:28:21</td>\n",
       "      <td>14:07:00</td>\n",
       "      <td>02:49:00</td>\n",
       "      <td>21.251476</td>\n",
       "      <td>00:28:26</td>\n",
       "      <td>-5</td>\n",
       "    </tr>\n",
       "    <tr>\n",
       "      <td>2</td>\n",
       "      <td>15.0</td>\n",
       "      <td>00:42:34</td>\n",
       "      <td>14:13:00</td>\n",
       "      <td>02:50:00</td>\n",
       "      <td>21.101993</td>\n",
       "      <td>00:42:39</td>\n",
       "      <td>-5</td>\n",
       "    </tr>\n",
       "    <tr>\n",
       "      <td>3</td>\n",
       "      <td>20.0</td>\n",
       "      <td>00:56:49</td>\n",
       "      <td>14:15:00</td>\n",
       "      <td>02:51:00</td>\n",
       "      <td>21.052632</td>\n",
       "      <td>00:56:52</td>\n",
       "      <td>-3</td>\n",
       "    </tr>\n",
       "    <tr>\n",
       "      <td>4</td>\n",
       "      <td>21.1</td>\n",
       "      <td>00:59:57</td>\n",
       "      <td>-</td>\n",
       "      <td>NaN</td>\n",
       "      <td>NaN</td>\n",
       "      <td>01:00:00</td>\n",
       "      <td>-3</td>\n",
       "    </tr>\n",
       "    <tr>\n",
       "      <td>5</td>\n",
       "      <td>25.0</td>\n",
       "      <td>01:11:03</td>\n",
       "      <td>14:14:00</td>\n",
       "      <td>02:52:00</td>\n",
       "      <td>21.077283</td>\n",
       "      <td>01:11:05</td>\n",
       "      <td>-2</td>\n",
       "    </tr>\n",
       "    <tr>\n",
       "      <td>6</td>\n",
       "      <td>30.0</td>\n",
       "      <td>01:25:20</td>\n",
       "      <td>14:17:00</td>\n",
       "      <td>02:52:00</td>\n",
       "      <td>21.003501</td>\n",
       "      <td>01:25:18</td>\n",
       "      <td>2</td>\n",
       "    </tr>\n",
       "    <tr>\n",
       "      <td>7</td>\n",
       "      <td>35.0</td>\n",
       "      <td>01:39:37</td>\n",
       "      <td>14:17:00</td>\n",
       "      <td>02:52:00</td>\n",
       "      <td>21.126761</td>\n",
       "      <td>01:39:31</td>\n",
       "      <td>6</td>\n",
       "    </tr>\n",
       "    <tr>\n",
       "      <td>8</td>\n",
       "      <td>40.0</td>\n",
       "      <td>01:54:04</td>\n",
       "      <td>14:27:00</td>\n",
       "      <td>02:54:00</td>\n",
       "      <td>20.761246</td>\n",
       "      <td>01:53:44</td>\n",
       "      <td>20</td>\n",
       "    </tr>\n",
       "    <tr>\n",
       "      <td>9</td>\n",
       "      <td>42.2</td>\n",
       "      <td>02:00:25</td>\n",
       "      <td>06:21:00</td>\n",
       "      <td>NaN</td>\n",
       "      <td>20.740157</td>\n",
       "      <td>02:00:00</td>\n",
       "      <td>25</td>\n",
       "    </tr>\n",
       "  </tbody>\n",
       "</table>\n",
       "</div>"
      ],
      "text/plain": [
       "   split      time      diff    min/km       km/h 2-hr Pace  sub_2hr\n",
       "0    5.0  00:14:14  14:14:00  02:52:00  21.077283  00:14:13        1\n",
       "1   10.0  00:28:21  14:07:00  02:49:00  21.251476  00:28:26       -5\n",
       "2   15.0  00:42:34  14:13:00  02:50:00  21.101993  00:42:39       -5\n",
       "3   20.0  00:56:49  14:15:00  02:51:00  21.052632  00:56:52       -3\n",
       "4   21.1  00:59:57         -       NaN        NaN  01:00:00       -3\n",
       "5   25.0  01:11:03  14:14:00  02:52:00  21.077283  01:11:05       -2\n",
       "6   30.0  01:25:20  14:17:00  02:52:00  21.003501  01:25:18        2\n",
       "7   35.0  01:39:37  14:17:00  02:52:00  21.126761  01:39:31        6\n",
       "8   40.0  01:54:04  14:27:00  02:54:00  20.761246  01:53:44       20\n",
       "9   42.2  02:00:25  06:21:00       NaN  20.740157  02:00:00       25"
      ]
     },
     "execution_count": 11,
     "metadata": {},
     "output_type": "execute_result"
    }
   ],
   "source": [
    "br_2"
   ]
  },
  {
   "cell_type": "code",
   "execution_count": 12,
   "metadata": {},
   "outputs": [],
   "source": [
    "wr_kip['split'] = wr_kip['split'].str.slice(0,-2)\n",
    "wr_kip.iloc[9,0] = wr_kip.iloc[9,0].replace('Fini', '42.2')\n",
    "wr_kip['split'] = wr_kip['split'].astype(float)"
   ]
  },
  {
   "cell_type": "code",
   "execution_count": 13,
   "metadata": {},
   "outputs": [],
   "source": [
    "bekele['split'] = bekele['split'].str.slice(0,-2)\n",
    "bekele.iloc[9,0] = bekele.iloc[9,0].replace('Fini', '42.2')\n",
    "bekele['split'] = bekele['split'].astype(float)"
   ]
  },
  {
   "cell_type": "code",
   "execution_count": 14,
   "metadata": {},
   "outputs": [],
   "source": [
    "ineos_kip['split'] = ineos_kip['split'].str.slice(0,-2)\n",
    "ineos_kip.iloc[9,0] = ineos_kip.iloc[9,0].replace('Fini', '42.2')\n",
    "ineos_kip['split'] = ineos_kip['split'].astype(float)"
   ]
  },
  {
   "cell_type": "code",
   "execution_count": 15,
   "metadata": {},
   "outputs": [],
   "source": [
    "wr_kip['time'] = pd.to_datetime(wr_kip['time'], format='%H:%M:%S').dt.time\n",
    "bekele['time'] = pd.to_datetime(bekele['time'], format='%H:%M:%S').dt.time\n",
    "ineos_kip['time'] = pd.to_datetime(ineos_kip['time'], format='%H:%M:%S').dt.time\n",
    "br_2['time'] = pd.to_datetime(br_2['time'], format='%H:%M:%S').dt.time"
   ]
  },
  {
   "cell_type": "code",
   "execution_count": 16,
   "metadata": {
    "scrolled": true
   },
   "outputs": [],
   "source": [
    "ineos_kip.drop(4, axis=0, inplace = True)\n",
    "br_2.drop(4, axis=0, inplace = True)"
   ]
  },
  {
   "cell_type": "code",
   "execution_count": 17,
   "metadata": {},
   "outputs": [],
   "source": [
    "#a function that calculates the average speed in a marathon(km/h)\n",
    "def avg_speed(hours, mins, sec):\n",
    "    return (42195/((hours*3600)+(mins*60)+(sec)))*(18/5)"
   ]
  },
  {
   "cell_type": "code",
   "execution_count": 18,
   "metadata": {
    "scrolled": true
   },
   "outputs": [
    {
     "name": "stdout",
     "output_type": "stream",
     "text": [
      "the average speed for ineos was 21.156267409470754\n",
      "the average speed for breaking 2 was 21.024498269896196\n",
      "the average speed for the world record was 20.811344019728732\n",
      "the average speed for 2nd fastest official time was 20.805643062594164\n"
     ]
    }
   ],
   "source": [
    "avg_ineos = avg_speed(1,59,40)\n",
    "avg_br2 = avg_speed(2,0,25)\n",
    "avg_wr_kip = avg_speed(2,1,39)\n",
    "avg_bekele = avg_speed(2,1,41)\n",
    "print('the average speed for ineos was',avg_ineos)\n",
    "print('the average speed for breaking 2 was',avg_br2)\n",
    "print('the average speed for the world record was',avg_wr_kip)\n",
    "print('the average speed for 2nd fastest official time was',avg_bekele)"
   ]
  },
  {
   "cell_type": "code",
   "execution_count": 19,
   "metadata": {
    "scrolled": true
   },
   "outputs": [
    {
     "name": "stdout",
     "output_type": "stream",
     "text": [
      "5.87674094707521\n",
      "5.840138408304499\n",
      "5.780928894369093\n",
      "5.779345295165046\n"
     ]
    }
   ],
   "source": [
    "#getting the speeds in m/s\n",
    "print(avg_ineos*(5/18))\n",
    "print(avg_br2*(5/18))\n",
    "print(avg_wr_kip*(5/18))\n",
    "print(avg_bekele*(5/18))"
   ]
  },
  {
   "cell_type": "code",
   "execution_count": null,
   "metadata": {
    "scrolled": false
   },
   "outputs": [],
   "source": [
    "#plotting all the races\n",
    "plt.plot(wr_kip.time, wr_kip.split, label='Kipchoge',marker='*', alpha=0.6)\n",
    "plt.plot(bekele.time, bekele.split, label='Bekele', marker='*',alpha=0.6)\n",
    "plt.plot(ineos_kip.time, ineos_kip.split, label='ineos', marker='*', alpha=0.6)\n",
    "plt.plot(br_2.time, br_2.split, label='breaking2', marker='*', alpha=0.6)\n",
    "plt.title('A GRAPH OF TIME VS DISTANCE')\n",
    "plt.xlabel('Time')\n",
    "plt.ylabel('Distance (km)')\n",
    "plt.xticks(rotation=90)\n",
    "plt.legend()\n",
    "plt.savefig('plot')"
   ]
  },
  {
   "cell_type": "code",
   "execution_count": null,
   "metadata": {},
   "outputs": [],
   "source": [
    "plt.plot(wr_kip.time, wr_kip.split, label='Kipchoge',marker='.', alpha=0.6)\n",
    "plt.plot(bekele.time, bekele.split, label='Bekele', marker='.',alpha=0.6)\n",
    "plt.plot(ineos_kip.time, ineos_kip.split, label='ineos', marker='.', alpha=0.6)\n",
    "plt.plot(br_2.time, br_2.split, label='breaking2', marker='.', alpha=0.6)\n",
    "plt.ylim(30,42.5)\n",
    "plt.xlim('01:10:00','02:02:00')\n",
    "plt.title('A GRAPH OF TIME VS DISTANCE')\n",
    "plt.xlabel('Time')\n",
    "plt.ylabel('Distance (km)')\n",
    "plt.xticks(rotation=90)\n",
    "plt.legend()\n",
    "plt.savefig('plot2')"
   ]
  },
  {
   "cell_type": "code",
   "execution_count": 20,
   "metadata": {},
   "outputs": [
    {
     "data": {
      "text/plain": [
       "5.860416666666667"
      ]
     },
     "execution_count": 20,
     "metadata": {},
     "output_type": "execute_result"
    }
   ],
   "source": [
    "_2hr_pace=avg_speed(2,0,0)\n",
    "_2hr_pace*(5/18)"
   ]
  },
  {
   "cell_type": "code",
   "execution_count": 21,
   "metadata": {
    "scrolled": false
   },
   "outputs": [
    {
     "data": {
      "image/png": "[encoded data removed]",
      "text/plain": [
       "<Figure size 432x288 with 1 Axes>"
      ]
     },
     "metadata": {},
     "output_type": "display_data"
    }
   ],
   "source": [
    "plt.plot(ineos_kip.split, ineos_kip['km/h'], label='Ineos', marker='.', color='k')\n",
    "plt.plot(br_2.split, br_2['km/h'], label='Breaking2', marker='.', color='b')\n",
    "plt.hlines(_2hr_pace, 5,43, color='g',label='2 hour pace')\n",
    "plt.title('BREAKING 2 VS INEOS(DISTANCE AGAINST SPEED/KM)')\n",
    "plt.xlabel('Distance (km)')\n",
    "plt.ylabel('Speed per km')\n",
    "plt.legend()\n",
    "plt.savefig('plot1')"
   ]
  },
  {
   "cell_type": "code",
   "execution_count": 22,
   "metadata": {
    "scrolled": false
   },
   "outputs": [
    {
     "data": {
      "image/png": "[encoded data removed]",
      "text/plain": [
       "<Figure size 432x288 with 1 Axes>"
      ]
     },
     "metadata": {},
     "output_type": "display_data"
    }
   ],
   "source": [
    "plt.plot(ineos_kip.split, ineos_kip.sub_2hr, marker='.', label='Ineos')\n",
    "plt.plot(br_2.split, br_2.sub_2hr, marker='.', label='Breaking2')\n",
    "plt.title('TIME TO SPARE FOR A SUB 2 HOUR MARATHON')\n",
    "plt.ylabel('Time (sec)')\n",
    "plt.xlabel('Distance (km)')\n",
    "plt.hlines(0, 5, 43, color='g', label='2 hour pace')\n",
    "plt.legend()\n",
    "plt.savefig('plot2')"
   ]
  },
  {
   "cell_type": "code",
   "execution_count": 23,
   "metadata": {
    "scrolled": true
   },
   "outputs": [
    {
     "data": {
      "image/png": "[encoded data removed]",
      "text/plain": [
       "<Figure size 432x288 with 1 Axes>"
      ]
     },
     "metadata": {},
     "output_type": "display_data"
    }
   ],
   "source": [
    "plt.plot(wr_kip.split, wr_kip['km/h'], label='Kipchoge',marker='.',color='r')\n",
    "plt.plot(bekele.split, bekele['km/h'], label='Bekele', marker='.', color='b')\n",
    "plt.hlines(_2hr_pace, 5,42, color='g',label='average')\n",
    "plt.title('FASTEST OFFICIAL MARATHONS (DISTANCE VS SPEED/KM)')\n",
    "plt.xlabel('Distance (km)')\n",
    "plt.ylabel('Speed per km')\n",
    "plt.legend()\n",
    "plt.savefig('plot3')"
   ]
  },
  {
   "cell_type": "code",
   "execution_count": 24,
   "metadata": {},
   "outputs": [
    {
     "data": {
      "image/png": "[encoded data removed]",
      "text/plain": [
       "<Figure size 432x288 with 1 Axes>"
      ]
     },
     "metadata": {},
     "output_type": "display_data"
    }
   ],
   "source": [
    "plt.plot(wr_kip.split, wr_kip.vs_bekele, marker='.', color='b', label='Kipchoge')\n",
    "plt.hlines(0,5,43, color='r', label=\"Bekele's pace\")\n",
    "plt.title('TIME COMPARISON (KIPCHOGE)')\n",
    "plt.ylabel('Time (sec)')\n",
    "plt.xlabel('Distance (km)')\n",
    "plt.legend()\n",
    "plt.savefig('plot4')"
   ]
  },
  {
   "cell_type": "code",
   "execution_count": 25,
   "metadata": {
    "scrolled": false
   },
   "outputs": [
    {
     "data": {
      "text/plain": [
       "<matplotlib.legend.Legend at 0x1ab8ae9b948>"
      ]
     },
     "execution_count": 25,
     "metadata": {},
     "output_type": "execute_result"
    },
    {
     "data": {
      "image/png": "[encoded data removed]",
      "text/plain": [
       "<Figure size 432x288 with 1 Axes>"
      ]
     },
     "metadata": {},
     "output_type": "display_data"
    }
   ],
   "source": [
    "plt.plot(wr_kip.split, wr_kip['km/h'], label='Kipchoge',marker='.',color='r')\n",
    "plt.plot(bekele.split, bekele['km/h'], label='Bekele', marker='.', color='g')\n",
    "plt.plot(ineos_kip.split, ineos_kip['km/h'], label='Ineos', marker='.', color='k')\n",
    "plt.plot(br_2.split, br_2['km/h'], label='Breaking2', marker='.', color='b')\n",
    "plt.hlines(avg_ineos, 5,42, color='y',label='average')\n",
    "plt.title('DISTANCE VS SPEED/KM')\n",
    "plt.xlabel('Distance (km)')\n",
    "plt.ylabel('Speed per km')\n",
    "plt.legend()"
   ]
  },
  {
   "cell_type": "code",
   "execution_count": null,
   "metadata": {
    "scrolled": true
   },
   "outputs": [],
   "source": [
    "plt.plot(wr_kip.split, wr_kip['min/km'])"
   ]
  },
  {
   "cell_type": "code",
   "execution_count": null,
   "metadata": {},
   "outputs": [],
   "source": []
  }
 ],
 "metadata": {
  "kernelspec": {
   "display_name": "Python 3",
   "language": "python",
   "name": "python3"
  },
  "language_info": {
   "codemirror_mode": {
    "name": "ipython",
    "version": 3
   },
   "file_extension": ".py",
   "mimetype": "text/x-python",
   "name": "python",
   "nbconvert_exporter": "python",
   "pygments_lexer": "ipython3",
   "version": "3.7.4"
  }
 },
 "nbformat": 4,
 "nbformat_minor": 2
}
